{
 "cells": [
  {
   "cell_type": "markdown",
   "metadata": {},
   "source": [
    "# Edge detection"
   ]
  },
  {
   "cell_type": "markdown",
   "metadata": {},
   "source": [
    "There is a lot of methods to detect the edges of an image. Each have its own advantages and drawbacks. We tested several of them and will use the one that seems the most apporpiate to us for each category of image."
   ]
  },
  {
   "cell_type": "code",
   "execution_count": 1,
   "metadata": {},
   "outputs": [
    {
     "ename": "SyntaxError",
     "evalue": "invalid syntax (notebook_utils.py, line 44)",
     "output_type": "error",
     "traceback": [
      "Traceback \u001b[1;36m(most recent call last)\u001b[0m:\n",
      "  File \u001b[0;32m\"C:\\Users\\HP\\Anaconda3\\lib\\site-packages\\IPython\\core\\interactiveshell.py\"\u001b[0m, line \u001b[0;32m3326\u001b[0m, in \u001b[0;35mrun_code\u001b[0m\n    exec(code_obj, self.user_global_ns, self.user_ns)\n",
      "\u001b[1;36m  File \u001b[1;32m\"<ipython-input-1-9202a25d2af6>\"\u001b[1;36m, line \u001b[1;32m11\u001b[1;36m, in \u001b[1;35m<module>\u001b[1;36m\u001b[0m\n\u001b[1;33m    from notebook_utils import *\u001b[0m\n",
      "\u001b[1;36m  File \u001b[1;32m\"C:\\Users\\HP\\Desktop\\projectComputerVision\\Edge-and-Ellipse-detection\\notebook_utils.py\"\u001b[1;36m, line \u001b[1;32m44\u001b[0m\n\u001b[1;33m    elif method == \"canny\"\u001b[0m\n\u001b[1;37m                          ^\u001b[0m\n\u001b[1;31mSyntaxError\u001b[0m\u001b[1;31m:\u001b[0m invalid syntax\n"
     ]
    }
   ],
   "source": [
    "import cv2\n",
    "import numpy as np\n",
    "import tools\n",
    "import matplotlib.cm as cm   \n",
    "from ipywidgets import interact, fixed\n",
    "\n",
    "from image import *\n",
    "from edge import *\n",
    "from line import *\n",
    "\n",
    "from notebook_utils import *"
   ]
  },
  {
   "cell_type": "code",
   "execution_count": null,
   "metadata": {
    "scrolled": false
   },
   "outputs": [],
   "source": [
    "img = load_gray_img(\"img/boat.png\")\n",
    "\n",
    "grad_sobel = sobel_edge(img)\n",
    "grad_naive = naive_gradient(img)\n",
    "grad_scharr = scharr_edge(img)\n",
    "grad_beucher = beucher_edge(img)\n",
    "grad_canny = canny_edge(img)\n",
    "\n",
    "tools.multiPlot(2, 3, \n",
    "        (img, grad_naive, grad_sobel, grad_scharr, grad_beucher, grad_canny),\n",
    "        ('Original Image', 'Naive Gradient', 'Sobel', 'Scharr', 'Beucher Gradient', 'Canny'),\n",
    "        cmap_tuple=(cm.gray, cm.gray, cm.gray, cm.gray, cm.gray, cm.gray))"
   ]
  },
  {
   "cell_type": "markdown",
   "metadata": {},
   "source": [
    "## Sobel Edge"
   ]
  },
  {
   "cell_type": "code",
   "execution_count": null,
   "metadata": {},
   "outputs": [],
   "source": [
    "interact(update_edges, method = \"sobel\",\n",
    "             image = [\"building\", \"sudoku\", \"soccer\", \"road\", \"pcb\"],\n",
    "             low_filter_type = [\"uniform\", \"median\", \"gaussian\"],\n",
    "             low_filtering_kernel_size = (1, 9, 2) ,\n",
    "             high_filter_type = [\"uniform\", \"median\", \"gaussian\"],\n",
    "             high_filtering_kernel_size = (1, 9, 2),\n",
    "             strength = (1.5, 5.0, 0.5),\n",
    "             block_size = (3, 27, 4),\n",
    "             constant = (1, 11, 2),\n",
    "             edge_threshold = (0, 100, 10))"
   ]
  },
  {
   "cell_type": "markdown",
   "metadata": {},
   "source": [
    "## Scharr Edges"
   ]
  },
  {
   "cell_type": "code",
   "execution_count": null,
   "metadata": {},
   "outputs": [],
   "source": [
    "interact(update_edges, method = \"scharr\",\n",
    "             image = [\"building\", \"sudoku\", \"soccer\", \"road\", \"pcb\"],\n",
    "             low_filter_type = [\"uniform\", \"median\", \"gaussian\"],\n",
    "             low_filtering_kernel_size = (1, 9, 2) ,\n",
    "             high_filter_type = [\"uniform\", \"median\", \"gaussian\"],\n",
    "             high_filtering_kernel_size = (1, 9, 2),\n",
    "             strength = (1.5, 5.0, 0.5),\n",
    "             block_size = (3, 27, 4),\n",
    "             constant = (1, 11, 2),\n",
    "             edge_threshold = (0, 100, 10))"
   ]
  },
  {
   "cell_type": "markdown",
   "metadata": {},
   "source": [
    "## Naive Gradient"
   ]
  },
  {
   "cell_type": "code",
   "execution_count": null,
   "metadata": {},
   "outputs": [],
   "source": [
    "interact(update_edges, method = \"naive_gradient\",\n",
    "             image = [\"building\", \"sudoku\", \"soccer\", \"road\", \"pcb\"],\n",
    "             low_filter_type = [\"uniform\", \"median\", \"gaussian\"],\n",
    "             low_filtering_kernel_size = (1, 9, 2) ,\n",
    "             high_filter_type = [\"uniform\", \"median\", \"gaussian\"],\n",
    "             high_filtering_kernel_size = (1, 9, 2),\n",
    "             strength = (1.5, 5.0, 0.5),\n",
    "             block_size = (3, 27, 4),\n",
    "             constant = (1, 11, 2),\n",
    "             edge_threshold = (0, 100, 10))"
   ]
  },
  {
   "cell_type": "markdown",
   "metadata": {},
   "source": [
    "## Beucher Gradient"
   ]
  },
  {
   "cell_type": "code",
   "execution_count": null,
   "metadata": {},
   "outputs": [],
   "source": [
    "interact(update_edges, method = \"beucher\",\n",
    "             image = [\"building\", \"sudoku\", \"soccer\", \"road\", \"pcb\"],\n",
    "             low_filter_type = [\"uniform\", \"median\", \"gaussian\"],\n",
    "             low_filtering_kernel_size = (1, 9, 2) ,\n",
    "             high_filter_type = [\"uniform\", \"median\", \"gaussian\"],\n",
    "             high_filtering_kernel_size = (1, 9, 2),\n",
    "             strength = (1.5, 5.0, 0.5),\n",
    "             block_size = (3, 27, 4),\n",
    "             constant = (1, 11, 2),\n",
    "             edge_threshold = (0, 100, 10))"
   ]
  },
  {
   "cell_type": "markdown",
   "metadata": {},
   "source": [
    "## Canny Edges "
   ]
  },
  {
   "cell_type": "code",
   "execution_count": null,
   "metadata": {},
   "outputs": [],
   "source": [
    "interact(update_edges, method = \"canny\",\n",
    "             image = [\"building\", \"sudoku\", \"soccer\", \"road\", \"pcb\"],\n",
    "             low_filter_type = [\"uniform\", \"median\", \"gaussian\"],\n",
    "             low_filtering_kernel_size = (1, 9, 2) ,\n",
    "             high_filter_type = [\"uniform\", \"median\", \"gaussian\"],\n",
    "             high_filtering_kernel_size = (1, 9, 2),\n",
    "             strength = (1.5, 5.0, 0.5),\n",
    "             block_size = (3, 27, 4),\n",
    "             constant = (1, 11, 2),\n",
    "             edge_threshold = (0, 100, 10),\n",
    "             low_threshold= (0, 100, 10), high_threshold= (200, 250, 10), \n",
    "             aperture_size= (1, 11, 2))"
   ]
  },
  {
   "cell_type": "markdown",
   "metadata": {},
   "source": [
    "## Stacked"
   ]
  },
  {
   "cell_type": "code",
   "execution_count": null,
   "metadata": {},
   "outputs": [],
   "source": [
    "interact(update_edges, method = \"stacked\",\n",
    "             image = [\"building\", \"sudoku\", \"soccer\", \"road\", \"pcb\"],\n",
    "             low_filter_type = [\"uniform\", \"median\", \"gaussian\"],\n",
    "             low_filtering_kernel_size = (1, 9, 2) ,\n",
    "             high_filter_type = [\"uniform\", \"median\", \"gaussian\"],\n",
    "             high_filtering_kernel_size = (1, 9, 2),\n",
    "             strength = (1.5, 5.0, 0.5),\n",
    "             block_size = (3, 27, 4),\n",
    "             constant = (1, 11, 2),\n",
    "             edge_threshold = (0, 100, 10))"
   ]
  },
  {
   "cell_type": "code",
   "execution_count": null,
   "metadata": {},
   "outputs": [],
   "source": []
  }
 ],
 "metadata": {
  "kernelspec": {
   "display_name": "Python 3",
   "language": "python",
   "name": "python3"
  },
  "language_info": {
   "codemirror_mode": {
    "name": "ipython",
    "version": 3
   },
   "file_extension": ".py",
   "mimetype": "text/x-python",
   "name": "python",
   "nbconvert_exporter": "python",
   "pygments_lexer": "ipython3",
   "version": "3.6.5"
  },
  "varInspector": {
   "cols": {
    "lenName": 16,
    "lenType": 16,
    "lenVar": 40
   },
   "kernels_config": {
    "python": {
     "delete_cmd_postfix": "",
     "delete_cmd_prefix": "del ",
     "library": "var_list.py",
     "varRefreshCmd": "print(var_dic_list())"
    },
    "r": {
     "delete_cmd_postfix": ") ",
     "delete_cmd_prefix": "rm(",
     "library": "var_list.r",
     "varRefreshCmd": "cat(var_dic_list()) "
    }
   },
   "types_to_exclude": [
    "module",
    "function",
    "builtin_function_or_method",
    "instance",
    "_Feature"
   ],
   "window_display": false
  }
 },
 "nbformat": 4,
 "nbformat_minor": 2
}
