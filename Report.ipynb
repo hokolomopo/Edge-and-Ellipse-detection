{
 "cells": [
  {
   "cell_type": "markdown",
   "metadata": {},
   "source": [
    "# Edge detection"
   ]
  },
  {
   "cell_type": "markdown",
   "metadata": {},
   "source": [
    "There is a lot of methods to detect the edges of an image. Each have its own advantages and drawbacks. We tested several of them and will use the one that seems the most apporpiate to us for each category of image."
   ]
  },
  {
   "cell_type": "code",
   "execution_count": 1,
   "metadata": {},
   "outputs": [],
   "source": [
    "import cv2\n",
    "import numpy as np\n",
    "import tools\n",
    "import matplotlib.cm as cm   \n",
    "from ipywidgets import interact, fixed\n",
    "\n",
    "from image import *\n",
    "from edge import *\n",
    "from line import *\n",
    "\n",
    "from notebook_utils import *"
   ]
  },
  {
   "cell_type": "markdown",
   "metadata": {},
   "source": [
    "## Edges"
   ]
  },
  {
   "cell_type": "code",
   "execution_count": 2,
   "metadata": {},
   "outputs": [
    {
     "data": {
      "application/vnd.jupyter.widget-view+json": {
       "model_id": "b7001ae20b384915bc89aa0cfb283a59",
       "version_major": 2,
       "version_minor": 0
      },
      "text/plain": [
       "VBox(children=(Dropdown(options=('Sobel', 'Scharr', 'Naive Gradient', 'Beucher', 'Canny', 'Stacking'), value='…"
      ]
     },
     "metadata": {},
     "output_type": "display_data"
    },
    {
     "data": {
      "application/vnd.jupyter.widget-view+json": {
       "model_id": "ea46fb6d12b5435c8c012c1a3f4230bb",
       "version_major": 2,
       "version_minor": 0
      },
      "text/plain": [
       "Output()"
      ]
     },
     "metadata": {},
     "output_type": "display_data"
    }
   ],
   "source": [
    "ui, out = build_ui_edges()\n",
    "display(ui, out)"
   ]
  },
  {
   "cell_type": "markdown",
   "metadata": {},
   "source": [
    "## Building edges"
   ]
  },
  {
   "cell_type": "code",
   "execution_count": null,
   "metadata": {},
   "outputs": [],
   "source": [
    "img = load_gray_img(\"img/building.png\")\n",
    "\n",
    "naive_grad = get_optimal_grads(\"building\", \"Naive Gradient\")\n",
    "sobel_grad = get_optimal_grads(\"building\", \"Sobel\")\n",
    "scharr_grad = get_optimal_grads(\"building\", \"Scharr\")\n",
    "canny_grad = get_optimal_grads(\"building\", \"Canny\")\n",
    "beucher_grad = get_optimal_grads(\"building\", \"Beucher\")\n",
    "stacking_grad = get_optimal_grads(\"building\", \"Stacking\")\n",
    "\n",
    "tools.multiPlot(2, 4, \n",
    "        (img, naive_grad, sobel_grad, scharr_grad, img, beucher_grad, canny_grad, stacking_grad),\n",
    "        ('Original Image', 'Naive Gradient', 'Sobel', 'Scharr', 'Original Image', 'Beucher Gradient', 'Canny', 'Stacking'),\n",
    "        cmap_tuple=(cm.gray, cm.gray, cm.gray, cm.gray, cm.gray, cm.gray, cm.gray, cm.gray))"
   ]
  },
  {
   "cell_type": "markdown",
   "metadata": {},
   "source": [
    "## Sudoku edges"
   ]
  },
  {
   "cell_type": "code",
   "execution_count": null,
   "metadata": {},
   "outputs": [],
   "source": [
    "img = load_gray_img(\"img/sudoku.png\")\n",
    "\n",
    "naive_grad = get_optimal_grads(\"sudoku\", \"Naive Gradient\")\n",
    "sobel_grad = get_optimal_grads(\"sudoku\", \"Sobel\")\n",
    "scharr_grad = get_optimal_grads(\"sudoku\", \"Scharr\")\n",
    "canny_grad = get_optimal_grads(\"sudoku\", \"Canny\")\n",
    "beucher_grad = get_optimal_grads(\"sudoku\", \"Beucher\")\n",
    "stacking_grad = get_optimal_grads(\"sudoku\", \"Stacking\")\n",
    "\n",
    "tools.multiPlot(2, 4, \n",
    "        (img, naive_grad, sobel_grad, scharr_grad, img, beucher_grad, canny_grad, stacking_grad),\n",
    "        ('Original Image', 'Naive Gradient', 'Sobel', 'Scharr', 'Original Image', 'Beucher Gradient', 'Canny', 'Stacking'),\n",
    "        cmap_tuple=(cm.gray, cm.gray, cm.gray, cm.gray, cm.gray, cm.gray, cm.gray, cm.gray))"
   ]
  }
 ],
 "metadata": {
  "kernelspec": {
   "display_name": "Python 3",
   "language": "python",
   "name": "python3"
  },
  "language_info": {
   "codemirror_mode": {
    "name": "ipython",
    "version": 3
   },
   "file_extension": ".py",
   "mimetype": "text/x-python",
   "name": "python",
   "nbconvert_exporter": "python",
   "pygments_lexer": "ipython3",
   "version": "3.6.8"
  },
  "varInspector": {
   "cols": {
    "lenName": 16,
    "lenType": 16,
    "lenVar": 40
   },
   "kernels_config": {
    "python": {
     "delete_cmd_postfix": "",
     "delete_cmd_prefix": "del ",
     "library": "var_list.py",
     "varRefreshCmd": "print(var_dic_list())"
    },
    "r": {
     "delete_cmd_postfix": ") ",
     "delete_cmd_prefix": "rm(",
     "library": "var_list.r",
     "varRefreshCmd": "cat(var_dic_list()) "
    }
   },
   "types_to_exclude": [
    "module",
    "function",
    "builtin_function_or_method",
    "instance",
    "_Feature"
   ],
   "window_display": false
  }
 },
 "nbformat": 4,
 "nbformat_minor": 2
}
